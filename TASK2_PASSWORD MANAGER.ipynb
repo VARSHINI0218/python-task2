{
 "cells": [
  {
   "cell_type": "code",
   "execution_count": null,
   "id": "eba93a9d",
   "metadata": {},
   "outputs": [],
   "source": [
    "import os\n",
    "import hashlib\n",
    "from cryptography.fernet import Fernet\n",
    "\n",
    "class PasswordManager:\n",
    "    def __init__(self, master_password):\n",
    "        self.master_password = master_password\n",
    "        self.key = hashlib.sha256(master_password.encode()).digest()\n",
    "        self.cipher = Fernet(self.key)\n",
    "        self.passwords = {}\n",
    "\n",
    "    def add_password(self, category, website, username, password):\n",
    "        if category not in self.passwords:\n",
    "            self.passwords[category] = {}\n",
    "        self.passwords[category][website] = {\n",
    "            'username': username,\n",
    "            'password': self.cipher.encrypt(password.encode()).decode()\n",
    "        }\n",
    "    \n",
    "    def get_password(self, category, website):\n",
    "        if category in self.passwords and website in self.passwords[category]:\n",
    "            encrypted_password = self.passwords[category][website]['password']\n",
    "            decrypted_password = self.cipher.decrypt(encrypted_password.encode()).decode()\n",
    "            return decrypted_password\n",
    "        else:\n",
    "            return \"Password not found.\"\n",
    "    \n",
    "    def generate_strong_password(self, length=12):\n",
    "        # Implement your strong password generation logic here\n",
    "        return \"StrongPassword123\"\n",
    "\n",
    "# Example usage\n",
    "if __name__ == \"__main__\":\n",
    "    master_password = input(\"Enter your master password: \")\n",
    "    password_manager = PasswordManager(master_password)\n",
    "\n",
    "    # Add passwords\n",
    "    password_manager.add_password(\"Email\", \"example@gmail.com\", \"user123\", \"password123\")\n",
    "    password_manager.add_password(\"Bank\", \"examplebank.com\", \"user456\", \"securepassword456\")\n",
    "\n",
    "    # Get passwords\n",
    "    email_password = password_manager.get_password(\"Email\", \"example@gmail.com\")\n",
    "    bank_password = password_manager.get_password(\"Bank\", \"examplebank.com\")\n",
    "\n",
    "    print(\"Email Password:\", email_password)\n",
    "    print(\"Bank Password:\", bank_password)\n",
    "\n",
    "    # Generate strong password\n",
    "    new_password = password_manager.generate_strong_password()\n",
    "    print(\"Generated Strong Password:\", new_password)\n"
   ]
  }
 ],
 "metadata": {
  "kernelspec": {
   "display_name": "Python 3 (ipykernel)",
   "language": "python",
   "name": "python3"
  },
  "language_info": {
   "codemirror_mode": {
    "name": "ipython",
    "version": 3
   },
   "file_extension": ".py",
   "mimetype": "text/x-python",
   "name": "python",
   "nbconvert_exporter": "python",
   "pygments_lexer": "ipython3",
   "version": "3.11.3"
  }
 },
 "nbformat": 4,
 "nbformat_minor": 5
}
